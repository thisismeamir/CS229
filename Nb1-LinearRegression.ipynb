{
 "cells": [
  {
   "cell_type": "markdown",
   "metadata": {},
   "source": [
    "# 1 - Linear Regression\n",
    "We want a function *Hypothesis*, to predict data. To preform supervised learning, we must decide how we're going to represent functions/hypotheses $h$ in a computer. As an initial choice, let's say we decide to approximate $y$ as a linear function of $x$:\n",
    "$$\n",
    "h_\\theta (x)=\\theta_0 + \\sum_{i=0}^d \\theta_i x_i\n",
    "$$\n",
    "Here $\\theta_i$'s are the parameters (also called weights) parameterizing the space of linear functions mapping from $X$ to $Y$. \n",
    "\\\\\n",
    "Now given a training set, how do we pick,or learn the parameters $\\theta$? One reasonable method seems to be to make $h(x)$ as close $y$, at least for the training exampples. To formalize this, we will define a cost function that measures this closeness.\n",
    "$$\n",
    "J(\\theta)=\\frac12 \\sum_{i=1}^n \\left(h_\\theta(x^{(i)}) - y^{(i)})^2\n",
    "$$\n"
   ]
  },
  {
   "cell_type": "code",
   "execution_count": null,
   "metadata": {},
   "outputs": [],
   "source": []
  }
 ],
 "metadata": {
  "language_info": {
   "name": "python"
  },
  "orig_nbformat": 4
 },
 "nbformat": 4,
 "nbformat_minor": 2
}
